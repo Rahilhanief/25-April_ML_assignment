{
 "cells": [
  {
   "cell_type": "code",
   "execution_count": 1,
   "id": "ead86c6b-ba54-40ad-9cd2-f01a4bdc2d79",
   "metadata": {},
   "outputs": [
    {
     "data": {
      "text/plain": [
       "'\\nEigenvalues are the special set of scalar values that is associated with the set of linear equations most\\nprobably in the matrix equations. The eigenvectors are also termed as characteristic roots.\\nIt is a non-zero vector that can be changed at most by its scalar factor after the application of linear transformations.\\nWhat is an example of eigen decomposition?\\nEigendecomposition of matrix: eigenvalue and eigenvector\\n\\nThe same methodology in math. An integer can be decomposed into prime factors,\\nfor example, 20 = 2 * 2 * 5, which means 20 is not divisible by 3, and any integer multiple of 20 will be divisible by 5.\\n'"
      ]
     },
     "execution_count": 1,
     "metadata": {},
     "output_type": "execute_result"
    }
   ],
   "source": [
    "## Q No. 1 :\n",
    "\"\"\"\n",
    "Eigenvalues are the special set of scalar values that is associated with the set of linear equations most\n",
    "probably in the matrix equations. The eigenvectors are also termed as characteristic roots.\n",
    "It is a non-zero vector that can be changed at most by its scalar factor after the application of linear transformations.\n",
    "What is an example of eigen decomposition?\n",
    "Eigendecomposition of matrix: eigenvalue and eigenvector\n",
    "\n",
    "The same methodology in math. An integer can be decomposed into prime factors,\n",
    "for example, 20 = 2 * 2 * 5, which means 20 is not divisible by 3, and any integer multiple of 20 will be divisible by 5.\n",
    "\"\"\""
   ]
  },
  {
   "cell_type": "code",
   "execution_count": null,
   "id": "03af9744-ede9-40aa-926f-6e67c6248835",
   "metadata": {},
   "outputs": [],
   "source": [
    "## Q No. 2 :\n",
    "\"\"\"\n",
    "In linear algebra, eigendecomposition is the factorization of a matrix into a canonical form,\n",
    "whereby the matrix is represented in terms of its eigenvalues and eigenvectors. \n",
    "Only diagonalizable matrices can be factorized in this way.\n",
    "\n",
    "Eigendecomposition provides us with a tool to decompose a matrix by discovering the eigenvalues and the eigenvectors.\n",
    "This operation can prove useful since it allows certain matrix operations to be easier to perform \n",
    "and it also tells us important facts about the matrix itself.\n",
    "\"\"\""
   ]
  },
  {
   "cell_type": "code",
   "execution_count": 3,
   "id": "c9e36b53-0f20-4e20-bdad-bd56991d62fb",
   "metadata": {},
   "outputs": [
    {
     "data": {
      "text/plain": [
       "'\\nA square matrix A is diagonalizable if A is similar to a diagonal matrix. \\nThis means A = PDP−1 for some invertible P and diagonal D, with all matrices being n × n.\\nAn n × n matrix A is diagonalizable if and only if A has n linearly independent eigenvectors.\\nA diagonalizable matrix is any square matrix or linear map where it is possible to sum the eigenspaces to create a \\ncorresponding diagonal matrix. An n matrix is diagonalizable if the sum of the eigenspace dimensions is equal to n.\\n\\n'"
      ]
     },
     "execution_count": 3,
     "metadata": {},
     "output_type": "execute_result"
    }
   ],
   "source": [
    "## Q No. 3 :\n",
    "\"\"\"\n",
    "A square matrix A is diagonalizable if A is similar to a diagonal matrix. \n",
    "This means A = PDP−1 for some invertible P and diagonal D, with all matrices being n × n.\n",
    "An n × n matrix A is diagonalizable if and only if A has n linearly independent eigenvectors.\n",
    "A diagonalizable matrix is any square matrix or linear map where it is possible to sum the eigenspaces to create a \n",
    "corresponding diagonal matrix. An n matrix is diagonalizable if the sum of the eigenspace dimensions is equal to n.\n",
    "\n",
    "\"\"\""
   ]
  },
  {
   "cell_type": "code",
   "execution_count": 4,
   "id": "b534056d-0b9e-4374-aac8-a43fc60f3c0e",
   "metadata": {},
   "outputs": [
    {
     "data": {
      "text/plain": [
       "'\\nThe spectral theorm provides a sufficient criterion for the existence of a particular canonical form.\\nSpecifically, the spectral theorem states that if M equals the transpose of M, then M is diagonalizable:\\nthere exists an invertible matrix C such that C − 1 M C C^{-1} MC C−1MC is a diagonal matrix.\\n'"
      ]
     },
     "execution_count": 4,
     "metadata": {},
     "output_type": "execute_result"
    }
   ],
   "source": [
    "## Q No. 4 :\n",
    "\"\"\"\n",
    "The spectral theorm provides a sufficient criterion for the existence of a particular canonical form.\n",
    "Specifically, the spectral theorem states that if M equals the transpose of M, then M is diagonalizable:\n",
    "there exists an invertible matrix C such that C − 1 M C C^{-1} MC C−1MC is a diagonal matrix.\n",
    "\"\"\""
   ]
  },
  {
   "cell_type": "code",
   "execution_count": 5,
   "id": "b7c1e089-7282-4441-8e64-6b9114d23b0c",
   "metadata": {},
   "outputs": [
    {
     "data": {
      "text/plain": [
       "'\\nIn order to find the eigenvalues of a matrix, follow the steps below:\\n\\nStep 1: Make sure the given matrix A is a square matrix. Also, determine the identity matrix I of the same order.\\n\\nStep 2: Estimate the matrix A – λI, where λ is a scalar quantity.\\n\\nStep 3: Find the determinant of matrix A – λI and equate it to zero.\\n\\nStep 4: From equation thus obtained, calculate all the possible values of λ,which are required eigenvalues of matrix A.\\n'"
      ]
     },
     "execution_count": 5,
     "metadata": {},
     "output_type": "execute_result"
    }
   ],
   "source": [
    "## Q No. 5 :\n",
    "\"\"\"\n",
    "In order to find the eigenvalues of a matrix, follow the steps below:\n",
    "\n",
    "Step 1: Make sure the given matrix A is a square matrix. Also, determine the identity matrix I of the same order.\n",
    "\n",
    "Step 2: Estimate the matrix A – λI, where λ is a scalar quantity.\n",
    "\n",
    "Step 3: Find the determinant of matrix A – λI and equate it to zero.\n",
    "\n",
    "Step 4: From equation thus obtained, calculate all the possible values of λ,which are required eigenvalues of matrix A.\n",
    "\"\"\""
   ]
  },
  {
   "cell_type": "code",
   "execution_count": 6,
   "id": "b33643a6-ef43-4b3c-b8a7-612f962aca47",
   "metadata": {},
   "outputs": [
    {
     "data": {
      "text/plain": [
       "'\\nIn simple terms, eigenvalues and eigenvectors are the building blocks of linear transformations. \\nEigenvalues represent the scaling factor by which a vector is transformed when a linear transformation is applied, \\nwhile eigenvectors represent the directions in which the transformation occurs.\\n'"
      ]
     },
     "execution_count": 6,
     "metadata": {},
     "output_type": "execute_result"
    }
   ],
   "source": [
    "## Q No. 6 :\n",
    "\"\"\"\n",
    "In simple terms, eigenvalues and eigenvectors are the building blocks of linear transformations. \n",
    "Eigenvalues represent the scaling factor by which a vector is transformed when a linear transformation is applied, \n",
    "while eigenvectors represent the directions in which the transformation occurs.\n",
    "\"\"\""
   ]
  },
  {
   "cell_type": "code",
   "execution_count": 7,
   "id": "ec7ae916-70f7-4f96-9e53-fb648ebf9736",
   "metadata": {},
   "outputs": [
    {
     "data": {
      "text/plain": [
       "'\\nGeometrically, an eigenvector, corresponding to a real nonzero eigenvalue, points in a direction\\nin which it is stretched by the transformation and the eigenvalue is the factor by which it is stretched.\\nIf the eigenvalue is negative, the direction is reversed.\\n'"
      ]
     },
     "execution_count": 7,
     "metadata": {},
     "output_type": "execute_result"
    }
   ],
   "source": [
    "## Q no. 7 :\n",
    "\"\"\"\n",
    "Geometrically, an eigenvector, corresponding to a real nonzero eigenvalue, points in a direction\n",
    "in which it is stretched by the transformation and the eigenvalue is the factor by which it is stretched.\n",
    "If the eigenvalue is negative, the direction is reversed.\n",
    "\"\"\""
   ]
  },
  {
   "cell_type": "code",
   "execution_count": 8,
   "id": "a107819d-3bc5-4986-8d80-201d01847905",
   "metadata": {},
   "outputs": [
    {
     "data": {
      "text/plain": [
       "'\\nIt is used in car design especially car stereo system and also in decoupling three phase system.\\nEigendecomposition is particularly useful for analysing the structure of the data matrix in terms of \\nthe eigenvalues and eigenvectors.\\n'"
      ]
     },
     "execution_count": 8,
     "metadata": {},
     "output_type": "execute_result"
    }
   ],
   "source": [
    "## Q No. 8 :\n",
    "\"\"\"\n",
    "It is used in car design especially car stereo system and also in decoupling three phase system.\n",
    "Eigendecomposition is particularly useful for analysing the structure of the data matrix in terms of \n",
    "the eigenvalues and eigenvectors.\n",
    "\"\"\""
   ]
  },
  {
   "cell_type": "code",
   "execution_count": 9,
   "id": "ce9595c8-8527-4aee-b015-d4c5a820b6e8",
   "metadata": {},
   "outputs": [
    {
     "data": {
      "text/plain": [
       "'\\nSince a nonzero subspace is infinite, every eigenvalue has infinitely many eigenvectors. \\n(For example, multiplying an eigenvector by a nonzero scalar gives another eigenvector.)\\nOn the other hand, there can be at most n linearly independent eigenvectors of an n × n matrix, \\nsince R n has dimension n .\\n'"
      ]
     },
     "execution_count": 9,
     "metadata": {},
     "output_type": "execute_result"
    }
   ],
   "source": [
    "## Q No. 9 :\n",
    "\"\"\"\n",
    "Since a nonzero subspace is infinite, every eigenvalue has infinitely many eigenvectors. \n",
    "(For example, multiplying an eigenvector by a nonzero scalar gives another eigenvector.)\n",
    "On the other hand, there can be at most n linearly independent eigenvectors of an n × n matrix, \n",
    "since R n has dimension n .\n",
    "\"\"\""
   ]
  },
  {
   "cell_type": "code",
   "execution_count": 11,
   "id": "55161277-47b6-4c92-a4c6-22c367a7d328",
   "metadata": {},
   "outputs": [
    {
     "data": {
      "text/plain": [
       "'\\nThe PCA technique uses eigen decomposition to find the eigen values and eigen vectors from the dataset \\nand then transforms the data and results in a principle components which help in reducing the dimensionality of the data.\\nEigenvectors and associated eigenvalues are important in vibration analysis, differential  equations in all physical\\nand biological sciences, statistics (factor analysis and principal components analysis in psychological\\nand social sciences) and many other applied mathematical areas.\\n'"
      ]
     },
     "execution_count": 11,
     "metadata": {},
     "output_type": "execute_result"
    }
   ],
   "source": [
    "## Q No. 10 :\n",
    "\"\"\"\n",
    "The PCA technique uses eigen decomposition to find the eigen values and eigen vectors from the dataset \n",
    "and then transforms the data and results in a principle components which help in reducing the dimensionality of the data.\n",
    "Eigenvectors and associated eigenvalues are important in vibration analysis, differential  equations in all physical\n",
    "and biological sciences, statistics (factor analysis and principal components analysis in psychological\n",
    "and social sciences) and many other applied mathematical areas.\n",
    "\"\"\""
   ]
  }
 ],
 "metadata": {
  "kernelspec": {
   "display_name": "Python 3 (ipykernel)",
   "language": "python",
   "name": "python3"
  },
  "language_info": {
   "codemirror_mode": {
    "name": "ipython",
    "version": 3
   },
   "file_extension": ".py",
   "mimetype": "text/x-python",
   "name": "python",
   "nbconvert_exporter": "python",
   "pygments_lexer": "ipython3",
   "version": "3.10.8"
  }
 },
 "nbformat": 4,
 "nbformat_minor": 5
}
